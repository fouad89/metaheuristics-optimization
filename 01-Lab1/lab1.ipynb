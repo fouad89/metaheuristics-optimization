{
 "cells": [
  {
   "cell_type": "code",
   "execution_count": 10,
   "source": [
    "\"\"\"Traveling Salesman Problem\n",
    "\n",
    "\"\"\"\n",
    "import os\n",
    "import random\n",
    "import numpy as np \n",
    "np.random.seed(42)\n",
    "folder = \"TS dataset\"\n",
    "\n",
    "city_dict = {}\n",
    "with open('TSP dataset/dummy_data.tsp', 'r') as f:\n",
    "    next(f)\n",
    "    for line in f:\n",
    "        \n",
    "        values = line.split()\n",
    "        city_dict[int(values[0])] = values[1:]\n",
    "\n",
    "\n",
    "def euc_distance(x1, y1, x2, y2):\n",
    "    return ((x1-x2)**2 + (y1-y2)**2)**(1/2)\n",
    "\n",
    "\n",
    "\n",
    "city_dict"
   ],
   "outputs": [
    {
     "output_type": "execute_result",
     "data": {
      "text/plain": [
       "{1: ['823170', '415922'],\n",
       " 2: ['793699', '274913'],\n",
       " 3: ['981665', '218777'],\n",
       " 4: ['878910', '431320'],\n",
       " 5: ['910125', '405907']}"
      ]
     },
     "metadata": {},
     "execution_count": 10
    }
   ],
   "metadata": {}
  },
  {
   "cell_type": "code",
   "execution_count": 16,
   "source": [
    "city_dict\n"
   ],
   "outputs": [
    {
     "output_type": "execute_result",
     "data": {
      "text/plain": [
       "{1: [823170, 415922],\n",
       " 2: [793699, 274913],\n",
       " 3: [981665, 218777],\n",
       " 4: [878910, 431320],\n",
       " 5: [910125, 405907]}"
      ]
     },
     "metadata": {},
     "execution_count": 16
    }
   ],
   "metadata": {}
  },
  {
   "cell_type": "code",
   "execution_count": 17,
   "source": [
    "city_dict[1]"
   ],
   "outputs": [
    {
     "output_type": "execute_result",
     "data": {
      "text/plain": [
       "[823170, 415922]"
      ]
     },
     "metadata": {},
     "execution_count": 17
    }
   ],
   "metadata": {}
  },
  {
   "cell_type": "code",
   "execution_count": 3,
   "source": [
    "[np.random.choice(list(city_dict.keys()))]"
   ],
   "outputs": [
    {
     "output_type": "execute_result",
     "data": {
      "text/plain": [
       "[4]"
      ]
     },
     "metadata": {},
     "execution_count": 3
    }
   ],
   "metadata": {}
  },
  {
   "cell_type": "code",
   "execution_count": 6,
   "source": [
    "visited = [np.random.choice(list(city_dict.keys()))] # selecting a random city id\n",
    "not_visited = [c_id for c_id in city_dict.keys() if c_id not in visited]"
   ],
   "outputs": [],
   "metadata": {}
  },
  {
   "cell_type": "code",
   "execution_count": 4,
   "source": [
    "list(city_dict)"
   ],
   "outputs": [
    {
     "output_type": "execute_result",
     "data": {
      "text/plain": [
       "[1, 2, 3, 4, 5]"
      ]
     },
     "metadata": {},
     "execution_count": 4
    }
   ],
   "metadata": {}
  },
  {
   "cell_type": "code",
   "execution_count": 7,
   "source": [
    "visited"
   ],
   "outputs": [
    {
     "output_type": "execute_result",
     "data": {
      "text/plain": [
       "[5]"
      ]
     },
     "metadata": {},
     "execution_count": 7
    }
   ],
   "metadata": {}
  },
  {
   "cell_type": "code",
   "execution_count": 8,
   "source": [
    "not_visited"
   ],
   "outputs": [
    {
     "output_type": "execute_result",
     "data": {
      "text/plain": [
       "[1, 2, 3, 4]"
      ]
     },
     "metadata": {},
     "execution_count": 8
    }
   ],
   "metadata": {}
  },
  {
   "cell_type": "code",
   "execution_count": 31,
   "source": [
    "distances = {}\n",
    "for city, cord in city_dict.items():\n",
    "    x1, y1 = city_dict[visited[-1]]\n",
    "    if city not in visited:\n",
    "         x2, y2 = cord\n",
    "         dist = euc_distance(x1, y1, x2, y2)\n",
    "         distances[city] = dist\n",
    "\n",
    "min_dist = min(distances, key=distances.get)\n"
   ],
   "outputs": [],
   "metadata": {}
  },
  {
   "cell_type": "code",
   "execution_count": 34,
   "source": [
    "min(distances, key=distances.get)"
   ],
   "outputs": [
    {
     "output_type": "execute_result",
     "data": {
      "text/plain": [
       "4"
      ]
     },
     "metadata": {},
     "execution_count": 34
    }
   ],
   "metadata": {}
  },
  {
   "cell_type": "code",
   "execution_count": 29,
   "source": [
    "np.argmin(distances)"
   ],
   "outputs": [
    {
     "output_type": "execute_result",
     "data": {
      "text/plain": [
       "3"
      ]
     },
     "metadata": {},
     "execution_count": 29
    }
   ],
   "metadata": {}
  },
  {
   "cell_type": "code",
   "execution_count": null,
   "source": [],
   "outputs": [],
   "metadata": {}
  },
  {
   "cell_type": "code",
   "execution_count": 35,
   "source": [
    "len(city_dict)"
   ],
   "outputs": [
    {
     "output_type": "execute_result",
     "data": {
      "text/plain": [
       "5"
      ]
     },
     "metadata": {},
     "execution_count": 35
    }
   ],
   "metadata": {}
  },
  {
   "cell_type": "code",
   "execution_count": 9,
   "source": [
    "visited = [np.random.choice(list(city_dict.keys()))] # selecting a random city id\n",
    "not_visited = [c_id for c_id in city_dict.keys() if c_id not in visited]\n",
    "distances = {}\n",
    "print(f'initial visited list: {visited}')\n",
    "print(f'initial not visited list {not_visited}')\n",
    "for _ in range(len(city_dict)-1):\n",
    "    for city in not_visited:\n",
    "        x1, y1 = city_dict[visited[-1]]\n",
    "        x2, y2 = city_dict[city]\n",
    "        dist = euc_distance(x1, y1, x2, y2)\n",
    "        distances[city] = dist\n",
    "\n",
    "    min_dist = min(distances, key=distances.get)\n",
    "    visited.append(min_dist)\n",
    "    \n",
    "    if min_dist in not_visited:\n",
    "        not_visited.remove(min_dist)\n",
    "    print(f\"Visited: {visited}\")\n",
    "    print('\\n')\n",
    "    print(f'not_visited {not_visited}')\n",
    "\n",
    "print(visited)\n",
    "print(not_visited)\n"
   ],
   "outputs": [
    {
     "output_type": "stream",
     "name": "stdout",
     "text": [
      "initial visited list: [3]\n",
      "initial not visited list [1, 2, 4, 5]\n",
      "Visited: [3, 2]\n",
      "\n",
      "\n",
      "not_visited [1, 4, 5]\n",
      "Visited: [3, 2, 1]\n",
      "\n",
      "\n",
      "not_visited [4, 5]\n",
      "Visited: [3, 2, 1, 4]\n",
      "\n",
      "\n",
      "not_visited [5]\n",
      "Visited: [3, 2, 1, 4, 5]\n",
      "\n",
      "\n",
      "not_visited []\n",
      "[3, 2, 1, 4, 5]\n",
      "[]\n"
     ]
    }
   ],
   "metadata": {}
  },
  {
   "cell_type": "code",
   "execution_count": 43,
   "source": [
    "distances"
   ],
   "outputs": [
    {
     "output_type": "execute_result",
     "data": {
      "text/plain": [
       "{1: 87529.83634167266,\n",
       " 2: 175255.36086522433,\n",
       " 3: 200338.73439751985,\n",
       " 5: 40251.66821387655}"
      ]
     },
     "metadata": {},
     "execution_count": 43
    }
   ],
   "metadata": {}
  },
  {
   "cell_type": "code",
   "execution_count": 45,
   "source": [
    "distances[min(distances)]"
   ],
   "outputs": [
    {
     "output_type": "execute_result",
     "data": {
      "text/plain": [
       "87529.83634167266"
      ]
     },
     "metadata": {},
     "execution_count": 45
    }
   ],
   "metadata": {}
  },
  {
   "cell_type": "code",
   "execution_count": 16,
   "source": [
    "cities = {}\n",
    "with open('TSP dataset/dummy_data.tsp', 'r') as f:\n",
    "    next(f)\n",
    "    for line in f:\n",
    "        \n",
    "        #values = line.split()\n",
    "        #city_dict[int(values[0])] = values[1:]\n",
    "        print(line.split())\n",
    "        line_split = line.split()\n",
    "        city_id = int(line_split[0])\n",
    "        values = [float(i) for i in line_split[1:]]\n",
    "        \n",
    "        cities[city_id] = values\n",
    "\n",
    "print(cities)"
   ],
   "outputs": [
    {
     "output_type": "stream",
     "name": "stdout",
     "text": [
      "['1', '823170', '415922']\n",
      "['2', '793699', '274913']\n",
      "['3', '981665', '218777']\n",
      "['4', '878910', '431320']\n",
      "['5', '910125', '405907']\n",
      "{1: [823170.0, 415922.0], 2: [793699.0, 274913.0], 3: [981665.0, 218777.0], 4: [878910.0, 431320.0], 5: [910125.0, 405907.0]}\n"
     ]
    }
   ],
   "metadata": {}
  },
  {
   "cell_type": "code",
   "execution_count": 17,
   "source": [
    "help(round)"
   ],
   "outputs": [
    {
     "output_type": "stream",
     "name": "stdout",
     "text": [
      "Help on built-in function round in module builtins:\n",
      "\n",
      "round(number, ndigits=None)\n",
      "    Round a number to a given precision in decimal digits.\n",
      "    \n",
      "    The return value is an integer if ndigits is omitted or None.  Otherwise\n",
      "    the return value has the same type as the number.  ndigits may be negative.\n",
      "\n"
     ]
    }
   ],
   "metadata": {}
  },
  {
   "cell_type": "code",
   "execution_count": 18,
   "source": [
    "round(3.9)"
   ],
   "outputs": [
    {
     "output_type": "execute_result",
     "data": {
      "text/plain": [
       "4"
      ]
     },
     "metadata": {},
     "execution_count": 18
    }
   ],
   "metadata": {}
  },
  {
   "cell_type": "code",
   "execution_count": 22,
   "source": [
    "my_dict = {}\n",
    "with open('TSP dataset/dummy_data.tsp', 'r') as f:\n",
    "    n = f.readline() # read the first line\n",
    "    for line in f.readlines():\n",
    "        values = line.split()\n",
    "        print(values)\n",
    "        my_dict[int(values[0])] = [float(i) for i in values[1:]]\n",
    "\n",
    "\n",
    "print(my_dict)\n",
    "        "
   ],
   "outputs": [
    {
     "output_type": "stream",
     "name": "stdout",
     "text": [
      "['1', '823170', '415922']\n",
      "['2', '793699', '274913']\n",
      "['3', '981665', '218777']\n",
      "['4', '878910', '431320']\n",
      "['5', '910125', '405907']\n",
      "{1: [823170.0, 415922.0], 2: [793699.0, 274913.0], 3: [981665.0, 218777.0], 4: [878910.0, 431320.0], 5: [910125.0, 405907.0]}\n"
     ]
    }
   ],
   "metadata": {}
  },
  {
   "cell_type": "code",
   "execution_count": 23,
   "source": [
    "[list(city_dict.keys())[0]]"
   ],
   "outputs": [
    {
     "output_type": "execute_result",
     "data": {
      "text/plain": [
       "1"
      ]
     },
     "metadata": {},
     "execution_count": 23
    }
   ],
   "metadata": {}
  },
  {
   "cell_type": "code",
   "execution_count": 24,
   "source": [
    "len(city_dict)"
   ],
   "outputs": [
    {
     "output_type": "execute_result",
     "data": {
      "text/plain": [
       "5"
      ]
     },
     "metadata": {},
     "execution_count": 24
    }
   ],
   "metadata": {}
  },
  {
   "cell_type": "code",
   "execution_count": 25,
   "source": [
    "min(city_dict, key=city_dict.get)"
   ],
   "outputs": [
    {
     "output_type": "execute_result",
     "data": {
      "text/plain": [
       "2"
      ]
     },
     "metadata": {},
     "execution_count": 25
    }
   ],
   "metadata": {}
  },
  {
   "cell_type": "code",
   "execution_count": 27,
   "source": [
    "def distance(x1, y1, x2, y2):\n",
    "    return round(np.sqrt((x1-x2)**2 + (y1-y2)**2))"
   ],
   "outputs": [],
   "metadata": {}
  },
  {
   "cell_type": "code",
   "execution_count": 35,
   "source": [
    "not_visited = [1,2,3,4]\n",
    "x1, y1 = city_dict[visited[-1]]\n",
    "x2, y2 = dicts[random.choice(all_cities)]"
   ],
   "outputs": [],
   "metadata": {}
  },
  {
   "cell_type": "code",
   "execution_count": 37,
   "source": [
    "x1, y1, x2, y2 = int(x1), int(y1), int(x2), int(y2)\n",
    "distance(x1,y1,x2,y2)"
   ],
   "outputs": [
    {
     "output_type": "execute_result",
     "data": {
      "text/plain": [
       "200339"
      ]
     },
     "metadata": {},
     "execution_count": 37
    }
   ],
   "metadata": {}
  },
  {
   "cell_type": "code",
   "execution_count": null,
   "source": [],
   "outputs": [],
   "metadata": {}
  }
 ],
 "metadata": {
  "orig_nbformat": 4,
  "language_info": {
   "name": "python",
   "version": "3.8.8",
   "mimetype": "text/x-python",
   "codemirror_mode": {
    "name": "ipython",
    "version": 3
   },
   "pygments_lexer": "ipython3",
   "nbconvert_exporter": "python",
   "file_extension": ".py"
  },
  "kernelspec": {
   "name": "python3",
   "display_name": "Python 3.8.8 64-bit ('base': conda)"
  },
  "interpreter": {
   "hash": "016f416f43c7de9d71e7f049375c6b8b903fae571cb02d2ed6c16dadea121115"
  }
 },
 "nbformat": 4,
 "nbformat_minor": 2
}